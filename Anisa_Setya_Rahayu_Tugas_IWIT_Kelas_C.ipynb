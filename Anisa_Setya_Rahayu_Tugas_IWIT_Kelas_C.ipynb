{
  "nbformat": 4,
  "nbformat_minor": 0,
  "metadata": {
    "colab": {
      "name": "Anisa Setya Rahayu_Tugas IWIT_Kelas C.ipynb",
      "provenance": []
    },
    "kernelspec": {
      "name": "python3",
      "display_name": "Python 3"
    },
    "language_info": {
      "name": "python"
    }
  },
  "cells": [
    {
      "cell_type": "markdown",
      "metadata": {
        "id": "4uhK1YDn9Cil"
      },
      "source": [
        "# **TUGAS 1: TUPLE**\n",
        "\n",
        "Data : Nama atlet bulutangkis Indonesia yang bermain di Olimpiade Tokyo 2020."
      ]
    },
    {
      "cell_type": "markdown",
      "metadata": {
        "id": "wUbS6m3O9jlD"
      },
      "source": [
        "## **Membuat Tuple**"
      ]
    },
    {
      "cell_type": "code",
      "metadata": {
        "colab": {
          "base_uri": "https://localhost:8080/"
        },
        "id": "Dh6irghnq6da",
        "outputId": "037b6b44-da2c-4238-c2b7-78dcdf761d8a"
      },
      "source": [
        "#Membuat Tuple\n",
        "Atlet = ('Anthony Sinisuka Ginting', 'Jonatan Christie', 'Gregoria Mariska Tunjung', \n",
        "         'Greysia Polii', 'Apriyani Rahayu', 'Kevin Sanjaya Sukamuljo', \n",
        "         'Marcus Ferlandi Gideon', 'Mohammad Ahsan', 'Hendra Setiawan', \n",
        "         'Praveen Jordan', 'Melati Daeva Oktavianti')\n",
        "print(Atlet)"
      ],
      "execution_count": null,
      "outputs": [
        {
          "output_type": "stream",
          "text": [
            "('Anthony Sinisuka Ginting', 'Jonatan Christie', 'Gregoria Mariska Tunjung', 'Greysia Polii', 'Apriyani Rahayu', 'Kevin Sanjaya Sukamuljo', 'Marcus Ferlandi Gideon', 'Mohammad Ahsan', 'Hendra Setiawan', 'Praveen Jordan', 'Melati Daeva Oktavianti')\n"
          ],
          "name": "stdout"
        }
      ]
    },
    {
      "cell_type": "markdown",
      "metadata": {
        "id": "j-Nznkg59sq-"
      },
      "source": [
        "## **Perintah Pada Tuple**\n",
        "\n",
        "\n"
      ]
    },
    {
      "cell_type": "markdown",
      "metadata": {
        "id": "pI-I7q-x-tMb"
      },
      "source": [
        "### **Mengambil jumlah elemen(panjang) Tuple**"
      ]
    },
    {
      "cell_type": "code",
      "metadata": {
        "colab": {
          "base_uri": "https://localhost:8080/"
        },
        "id": "9AnApPlMrBZf",
        "outputId": "87f0fdfc-e51b-4db5-cd59-e2c795219f6f"
      },
      "source": [
        "#Cara mengetahui panjang(jumlah elemen) pada Tuple\n",
        "Atlet = ('Anthony Sinisuka Ginting', 'Jonatan Christie', 'Gregoria Mariska Tunjung', \n",
        "         'Greysia Polii', 'Apriyani Rahayu', 'Kevin Sanjaya Sukamuljo', \n",
        "         'Marcus Ferlandi Gideon', 'Mohammad Ahsan', 'Hendra Setiawan', \n",
        "         'Praveen Jordan', 'Melati Daeva Oktavianti')\n",
        "print(\"Jumlah elemen (panjang) tuple adalah\", len(Atlet))"
      ],
      "execution_count": null,
      "outputs": [
        {
          "output_type": "stream",
          "text": [
            "Jumlah elemen (panjang) tuple adalah 11\n"
          ],
          "name": "stdout"
        }
      ]
    },
    {
      "cell_type": "markdown",
      "metadata": {
        "id": "2ekxuqL0-2HY"
      },
      "source": [
        "### **Mencari elemen max pada Tuple**"
      ]
    },
    {
      "cell_type": "code",
      "metadata": {
        "colab": {
          "base_uri": "https://localhost:8080/"
        },
        "id": "kYyQ-pHvtBfc",
        "outputId": "870e6985-dec4-470f-ac3f-45580ccc61eb"
      },
      "source": [
        "#Cara mengetahui elemen max pada Tuple\n",
        "Atlet = ('Anthony Sinisuka Ginting', 'Jonatan Christie', 'Gregoria Mariska Tunjung', \n",
        "         'Greysia Polii', 'Apriyani Rahayu', 'Kevin Sanjaya Sukamuljo', \n",
        "         'Marcus Ferlandi Gideon', 'Mohammad Ahsan', 'Hendra Setiawan', \n",
        "         'Praveen Jordan', 'Melati Daeva Oktavianti')\n",
        "print(\"elemen max pada tuple adalah\", max(Atlet))"
      ],
      "execution_count": null,
      "outputs": [
        {
          "output_type": "stream",
          "text": [
            "elemen max pada tuple adalah Praveen Jordan\n"
          ],
          "name": "stdout"
        }
      ]
    },
    {
      "cell_type": "markdown",
      "metadata": {
        "id": "kW-8KkHY--iy"
      },
      "source": [
        "### **Mencari elemen min pada Tuple**"
      ]
    },
    {
      "cell_type": "code",
      "metadata": {
        "colab": {
          "base_uri": "https://localhost:8080/"
        },
        "id": "mb3VkHKAurzv",
        "outputId": "c9d5c456-e923-4988-e4be-2623df72ff41"
      },
      "source": [
        "#Cara mengetahui elemen min pada Tuple\n",
        "Atlet = ('Anthony Sinisuka Ginting', 'Jonatan Christie', 'Gregoria Mariska Tunjung', \n",
        "         'Greysia Polii', 'Apriyani Rahayu', 'Kevin Sanjaya Sukamuljo', \n",
        "         'Marcus Ferlandi Gideon', 'Mohammad Ahsan', 'Hendra Setiawan', \n",
        "         'Praveen Jordan', 'Melati Daeva Oktavianti')\n",
        "print(\"elemen min pada tuple adalah\", min(Atlet))"
      ],
      "execution_count": null,
      "outputs": [
        {
          "output_type": "stream",
          "text": [
            "elemen min pada tuple adalah Anthony Sinisuka Ginting\n"
          ],
          "name": "stdout"
        }
      ]
    },
    {
      "cell_type": "markdown",
      "metadata": {
        "id": "fmapkS5-_I8h"
      },
      "source": [
        "### **Mengakses nilai pada Tuple**"
      ]
    },
    {
      "cell_type": "code",
      "metadata": {
        "colab": {
          "base_uri": "https://localhost:8080/"
        },
        "id": "-zoOh6aTvSZv",
        "outputId": "49b314e0-2e0e-4a7a-9fae-a48c0b7c6c12"
      },
      "source": [
        "#Mengakses nilai pada Tuple\n",
        "Atlet = ('Anthony Sinisuka Ginting', 'Jonatan Christie', 'Gregoria Mariska Tunjung', \n",
        "         'Greysia Polii', 'Apriyani Rahayu', 'Kevin Sanjaya Sukamuljo', \n",
        "         'Marcus Ferlandi Gideon', 'Mohammad Ahsan', 'Hendra Setiawan', \n",
        "         'Praveen Jordan', 'Melati Daeva Oktavianti')\n",
        "print(Atlet[4])"
      ],
      "execution_count": null,
      "outputs": [
        {
          "output_type": "stream",
          "text": [
            "Apriyani Rahayu\n"
          ],
          "name": "stdout"
        }
      ]
    },
    {
      "cell_type": "markdown",
      "metadata": {
        "id": "k2q-2FQB_Pdm"
      },
      "source": [
        "### **Slicing Tuple**"
      ]
    },
    {
      "cell_type": "code",
      "metadata": {
        "colab": {
          "base_uri": "https://localhost:8080/"
        },
        "id": "gXb4PkNFzueB",
        "outputId": "ba672989-581b-4d3f-be67-4a23ef07ec30"
      },
      "source": [
        "#Slicing pada Tuple\n",
        "Atlet = ('Anthony Sinisuka Ginting', 'Jonatan Christie', 'Gregoria Mariska Tunjung', \n",
        "         'Greysia Polii', 'Apriyani Rahayu', 'Kevin Sanjaya Sukamuljo', \n",
        "         'Marcus Ferlandi Gideon', 'Mohammad Ahsan', 'Hendra Setiawan', \n",
        "         'Praveen Jordan', 'Melati Daeva Oktavianti')\n",
        "print(Atlet[4:-2])"
      ],
      "execution_count": null,
      "outputs": [
        {
          "output_type": "stream",
          "text": [
            "('Apriyani Rahayu', 'Kevin Sanjaya Sukamuljo', 'Marcus Ferlandi Gideon', 'Mohammad Ahsan', 'Hendra Setiawan')\n"
          ],
          "name": "stdout"
        }
      ]
    },
    {
      "cell_type": "markdown",
      "metadata": {
        "id": "1_kOJv_U_YZ2"
      },
      "source": [
        "# **Tugas 2: Dictionary**\n",
        "\n",
        "> Data : Nama atlet bulutangkis Indonesia yang bermain di Olimpiade Tokyo 2020\n",
        "\n"
      ]
    },
    {
      "cell_type": "markdown",
      "metadata": {
        "id": "TJ1FD2sz_2YB"
      },
      "source": [
        "## **Membuat Dictionary**\n",
        "\n",
        "> Dictionary ini berisi data nama atlet bulutangkis putri Indonesia yang bermain di Olimpiade Tokyo 2020 beserta kategori nomor yang dipertandingkan.\n",
        "\n"
      ]
    },
    {
      "cell_type": "code",
      "metadata": {
        "id": "fuKQV0Z9_vZO",
        "colab": {
          "base_uri": "https://localhost:8080/"
        },
        "outputId": "f5db7f27-d876-4af0-a117-a4e63729d6e0"
      },
      "source": [
        "#Membuat Dictionary\n",
        "AtletPutri = {\"Gregoria Mariska Tunjung\" : \"Tunggal Putri\", \"Greysia Polii\" : \"Ganda Putri\", \n",
        "              \"Apriyani Rahayu\" : \"Ganda Putri\", \"Melati Daeva Oktavianti\" : \"Ganda Campuran\"}\n",
        "print(AtletPutri)"
      ],
      "execution_count": 1,
      "outputs": [
        {
          "output_type": "stream",
          "text": [
            "{'Gregoria Mariska Tunjung': 'Tunggal Putri', 'Greysia Polii': 'Ganda Putri', 'Apriyani Rahayu': 'Ganda Putri', 'Melati Daeva Oktavianti': 'Ganda Campuran'}\n"
          ],
          "name": "stdout"
        }
      ]
    },
    {
      "cell_type": "markdown",
      "metadata": {
        "id": "ec4W6PGo3A08"
      },
      "source": [
        "## **Perintah pada Dictionary**"
      ]
    },
    {
      "cell_type": "markdown",
      "metadata": {
        "id": "JZGoYHDi3I0f"
      },
      "source": [
        "### **Mengakses dictionary dengan keys**"
      ]
    },
    {
      "cell_type": "code",
      "metadata": {
        "colab": {
          "base_uri": "https://localhost:8080/"
        },
        "id": "AGuLsj2j3PJ6",
        "outputId": "c3d88bf0-7502-4226-aea2-f803c0cf9b73"
      },
      "source": [
        "#Mengakses dictionary dengan keys\n",
        "AtletPutri = {\"Gregoria Mariska Tunjung\" : \"Tunggal Putri\", \"Greysia Polii\" : \"Ganda Putri\", \n",
        "              \"Apriyani Rahayu\" : \"Ganda Putri\", \"Melati Daeva Oktavianti\" : \"Ganda Campuran\"}\n",
        "for key in AtletPutri.keys():\n",
        "  print(key, \"->\", AtletPutri[key])"
      ],
      "execution_count": 6,
      "outputs": [
        {
          "output_type": "stream",
          "text": [
            "Gregoria Mariska Tunjung -> Tunggal Putri\n",
            "Greysia Polii -> Ganda Putri\n",
            "Apriyani Rahayu -> Ganda Putri\n",
            "Melati Daeva Oktavianti -> Ganda Campuran\n"
          ],
          "name": "stdout"
        }
      ]
    },
    {
      "cell_type": "markdown",
      "metadata": {
        "id": "LS7aFVci5WYY"
      },
      "source": [
        "### **Mengurutkan dictionary**"
      ]
    },
    {
      "cell_type": "code",
      "metadata": {
        "colab": {
          "base_uri": "https://localhost:8080/"
        },
        "id": "oWsxNEQD5hHI",
        "outputId": "a8166f07-9153-44ba-fca8-69773883d570"
      },
      "source": [
        "#Mengurutkan dictionary\n",
        "AtletPutri = {\"Gregoria Mariska Tunjung\" : \"Tunggal Putri\", \"Greysia Polii\" : \"Ganda Putri\", \n",
        "              \"Apriyani Rahayu\" : \"Ganda Putri\", \"Melati Daeva Oktavianti\" : \"Ganda Campuran\"}\n",
        "for key in sorted(AtletPutri.keys()):\n",
        "  print(key, \"->\", AtletPutri[key])"
      ],
      "execution_count": 7,
      "outputs": [
        {
          "output_type": "stream",
          "text": [
            "Apriyani Rahayu -> Ganda Putri\n",
            "Gregoria Mariska Tunjung -> Tunggal Putri\n",
            "Greysia Polii -> Ganda Putri\n",
            "Melati Daeva Oktavianti -> Ganda Campuran\n"
          ],
          "name": "stdout"
        }
      ]
    },
    {
      "cell_type": "markdown",
      "metadata": {
        "id": "G62jk7XB6jcQ"
      },
      "source": [
        "### **Menambahkan anggota pada dictionary**"
      ]
    },
    {
      "cell_type": "code",
      "metadata": {
        "colab": {
          "base_uri": "https://localhost:8080/"
        },
        "id": "dNmDo0a26ywe",
        "outputId": "e2c9a0e3-9980-413f-a379-348634926c00"
      },
      "source": [
        "#Menambahkan anggota\n",
        "AtletPutri = {\"Gregoria Mariska Tunjung\" : \"Tunggal Putri\", \"Greysia Polii\" : \"Ganda Putri\", \n",
        "              \"Apriyani Rahayu\" : \"Ganda Putri\"}\n",
        "\n",
        "AtletPutri['Melati Daeva Oktavianti'] = \"Ganda Campuran\"\n",
        "print(AtletPutri)"
      ],
      "execution_count": 13,
      "outputs": [
        {
          "output_type": "stream",
          "text": [
            "{'Gregoria Mariska Tunjung': 'Tunggal Putri', 'Greysia Polii': 'Ganda Putri', 'Apriyani Rahayu': 'Ganda Putri', 'Melati Daeva Oktavianti': 'Ganda Campuran'}\n"
          ],
          "name": "stdout"
        }
      ]
    },
    {
      "cell_type": "markdown",
      "metadata": {
        "id": "eoHrAsZQ9eu2"
      },
      "source": [
        "### **Mengetahui panjang dictionary**"
      ]
    },
    {
      "cell_type": "code",
      "metadata": {
        "colab": {
          "base_uri": "https://localhost:8080/"
        },
        "id": "VHaCORgf9kSK",
        "outputId": "5d51d242-8163-4f48-e2be-2e53711ee77b"
      },
      "source": [
        "#Mengetahui panjang dictionary\n",
        "AtletPutri = {\"Gregoria Mariska Tunjung\" : \"Tunggal Putri\", \"Greysia Polii\" : \"Ganda Putri\", \n",
        "              \"Apriyani Rahayu\" : \"Ganda Putri\", \"Melati Daeva Oktavianti\" : \"Ganda Campuran\"}\n",
        "print(\"panjang dictionary adalah\", len(AtletPutri))"
      ],
      "execution_count": 10,
      "outputs": [
        {
          "output_type": "stream",
          "text": [
            "panjang dictionary adalah 4\n"
          ],
          "name": "stdout"
        }
      ]
    },
    {
      "cell_type": "markdown",
      "metadata": {
        "id": "EEg34_1y-erw"
      },
      "source": [
        "### **Mengubah nilai elemen pada dictionary**"
      ]
    },
    {
      "cell_type": "code",
      "metadata": {
        "colab": {
          "base_uri": "https://localhost:8080/"
        },
        "id": "XQl-2cKK-gFm",
        "outputId": "30626559-5040-4fd6-e2bb-71b17fef3642"
      },
      "source": [
        "#Mengubah nilai elemen pada dictionary\n",
        "AtletPutri = {\"Gregoria Mariska Tunjung\" : \"Tunggal Putri\", \"Greysia Polii\" : \"Ganda Putri\", \n",
        "              \"Apriyani Rahayu\" : \"Ganda Putri\", \"Melati Daeva Oktavianti\" : \"Ganda Campuran\"}\n",
        "AtletPutri['Gregoria Mariska Tunjung'] = \"women's singles\"\n",
        "print(AtletPutri)"
      ],
      "execution_count": 12,
      "outputs": [
        {
          "output_type": "stream",
          "text": [
            "{'Gregoria Mariska Tunjung': \"women's singles\", 'Greysia Polii': 'Ganda Putri', 'Apriyani Rahayu': 'Ganda Putri', 'Melati Daeva Oktavianti': 'Ganda Campuran'}\n"
          ],
          "name": "stdout"
        }
      ]
    },
    {
      "cell_type": "markdown",
      "metadata": {
        "id": "7f049IBLFNGk"
      },
      "source": [
        "# **Tugas 3: Faktorial dengan fungsi rekursif**"
      ]
    },
    {
      "cell_type": "code",
      "metadata": {
        "colab": {
          "base_uri": "https://localhost:8080/"
        },
        "id": "rdZsVo-XFYAE",
        "outputId": "4aa9f8b7-2215-4146-b30d-b3da4dfd44b0"
      },
      "source": [
        "def faktorial(a):\n",
        "   if a == 1:\n",
        "      return (a)\n",
        "   else:\n",
        "      return (a*faktorial(a-1))\n",
        "\n",
        "bil = int(input(\"Masukan Bilangan : \"))\n",
        "\n",
        "print(\"%d! = %d\" % (bil, faktorial(bil)))"
      ],
      "execution_count": 14,
      "outputs": [
        {
          "output_type": "stream",
          "text": [
            "Masukan Bilangan : 6\n",
            "6! = 720\n"
          ],
          "name": "stdout"
        }
      ]
    }
  ]
}